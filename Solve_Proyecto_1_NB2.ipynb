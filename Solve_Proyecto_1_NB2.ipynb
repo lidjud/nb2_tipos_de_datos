{
  "nbformat": 4,
  "nbformat_minor": 0,
  "metadata": {
    "colab": {
      "name": "Solve Proyecto 1 NB2.ipynb",
      "provenance": [],
      "authorship_tag": "ABX9TyMVJc96BPKbfESeyawys2kc",
      "include_colab_link": true
    },
    "kernelspec": {
      "name": "python3",
      "display_name": "Python 3"
    },
    "language_info": {
      "name": "python"
    }
  },
  "cells": [
    {
      "cell_type": "markdown",
      "metadata": {
        "id": "view-in-github",
        "colab_type": "text"
      },
      "source": [
        "<a href=\"https://colab.research.google.com/github/lidjud/nb2_tipos_de_datos/blob/main/Solve_Proyecto_1_NB2.ipynb\" target=\"_parent\"><img src=\"https://colab.research.google.com/assets/colab-badge.svg\" alt=\"Open In Colab\"/></a>"
      ]
    },
    {
      "cell_type": "markdown",
      "source": [
        "# Proyecto 1. Calculadora de propinas"
      ],
      "metadata": {
        "id": "qH0KGj9ohFRr"
      }
    },
    {
      "cell_type": "code",
      "execution_count": null,
      "metadata": {
        "id": "E6pljrXphBJj"
      },
      "outputs": [],
      "source": [
        "print(\"Welcome to the tip calculator!\")\n",
        "bill = float(input(\"What was the total bill? $\"))\n",
        "tip = int(input(\"How much tip would you like to give? 10, 12, or 15? \"))\n",
        "people = int(input(\"How many people to split the bill?\"))\n",
        "\n",
        "tip_as_percent = tip / 100\n",
        "total_tip_amount = bill * tip_as_percent\n",
        "total_bill = bill + total_tip_amount\n",
        "bill_per_person = total_bill / people\n",
        "#final_amount = round(bill_per_person, 2)\n",
        "final_amount = \"{:.2f}\".format(bill_per_person)\n",
        "\n",
        "print(f\"Each person should pay: ${final_amount}\")"
      ]
    }
  ]
}